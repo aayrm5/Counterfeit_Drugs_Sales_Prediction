{
 "cells": [
  {
   "cell_type": "code",
   "execution_count": 1,
   "metadata": {},
   "outputs": [],
   "source": [
    "import warnings\n",
    "warnings.filterwarnings('ignore', category= Warning)\n",
    "import pandas as pd\n",
    "import math\n",
    "from sklearn.model_selection import train_test_split,KFold\n",
    "import numpy as np\n",
    "import os"
   ]
  },
  {
   "cell_type": "code",
   "execution_count": 15,
   "metadata": {},
   "outputs": [],
   "source": [
    "os.chdir(\"C:/Users/yasar/Dropbox/Edvancer/ML_Python/$$___Python - Project--3___$$\")"
   ]
  },
  {
   "cell_type": "code",
   "execution_count": 16,
   "metadata": {},
   "outputs": [],
   "source": [
    "cf_train = pd.read_csv(\"counterfeit_train.csv\")\n",
    "cf_test = pd.read_csv(\"counterfeit_test.csv\")"
   ]
  },
  {
   "cell_type": "code",
   "execution_count": 6,
   "metadata": {},
   "outputs": [],
   "source": [
    "# 6818+1705"
   ]
  },
  {
   "cell_type": "code",
   "execution_count": 7,
   "metadata": {
    "scrolled": true
   },
   "outputs": [],
   "source": [
    "# cf_train.info()"
   ]
  },
  {
   "cell_type": "code",
   "execution_count": 32,
   "metadata": {},
   "outputs": [],
   "source": [
    "# cf_test.info()"
   ]
  },
  {
   "cell_type": "code",
   "execution_count": 8,
   "metadata": {},
   "outputs": [],
   "source": [
    "cf_test['Counterfeit_Sales'] = np.nan"
   ]
  },
  {
   "cell_type": "code",
   "execution_count": 9,
   "metadata": {},
   "outputs": [
    {
     "output_type": "execute_result",
     "data": {
      "text/plain": "  Medicine_ID  Counterfeit_Weight DistArea_ID  Active_Since  Medicine_MRP  \\\n0       HLZ81                 NaN     Area027          1983       85.5328   \n1       ECE94               13.45     Area045          2000      257.1460   \n2       SAD14                7.10     Area045          2000       98.1172   \n3       EQV63               18.30     Area010          1996      135.3730   \n4       AIR10                 NaN     Area019          1983      112.8016   \n\n        Medicine_Type SidEffect_Level  Availability_rating  \\\n0         Antibiotics            mild             0.112747   \n1  OralContraceptives            mild             0.144446   \n2        Antipyretics            mild             0.144221   \n3       Tranquilizers            mild             0.100388   \n4  OralContraceptives            mild             0.022585   \n\n            Area_Type Area_City_Type Area_dist_level  Counterfeit_Sales  \n0          CityLimits         Tier 3          Medium                NaN  \n1            DownTown         Tier 2         Unknown                NaN  \n2            DownTown         Tier 2         Unknown                NaN  \n3  MidTownResidential         Tier 3         Unknown                NaN  \n4  MidTownResidential         Tier 1           Small                NaN  ",
      "text/html": "<div>\n<style scoped>\n    .dataframe tbody tr th:only-of-type {\n        vertical-align: middle;\n    }\n\n    .dataframe tbody tr th {\n        vertical-align: top;\n    }\n\n    .dataframe thead th {\n        text-align: right;\n    }\n</style>\n<table border=\"1\" class=\"dataframe\">\n  <thead>\n    <tr style=\"text-align: right;\">\n      <th></th>\n      <th>Medicine_ID</th>\n      <th>Counterfeit_Weight</th>\n      <th>DistArea_ID</th>\n      <th>Active_Since</th>\n      <th>Medicine_MRP</th>\n      <th>Medicine_Type</th>\n      <th>SidEffect_Level</th>\n      <th>Availability_rating</th>\n      <th>Area_Type</th>\n      <th>Area_City_Type</th>\n      <th>Area_dist_level</th>\n      <th>Counterfeit_Sales</th>\n    </tr>\n  </thead>\n  <tbody>\n    <tr>\n      <th>0</th>\n      <td>HLZ81</td>\n      <td>NaN</td>\n      <td>Area027</td>\n      <td>1983</td>\n      <td>85.5328</td>\n      <td>Antibiotics</td>\n      <td>mild</td>\n      <td>0.112747</td>\n      <td>CityLimits</td>\n      <td>Tier 3</td>\n      <td>Medium</td>\n      <td>NaN</td>\n    </tr>\n    <tr>\n      <th>1</th>\n      <td>ECE94</td>\n      <td>13.45</td>\n      <td>Area045</td>\n      <td>2000</td>\n      <td>257.1460</td>\n      <td>OralContraceptives</td>\n      <td>mild</td>\n      <td>0.144446</td>\n      <td>DownTown</td>\n      <td>Tier 2</td>\n      <td>Unknown</td>\n      <td>NaN</td>\n    </tr>\n    <tr>\n      <th>2</th>\n      <td>SAD14</td>\n      <td>7.10</td>\n      <td>Area045</td>\n      <td>2000</td>\n      <td>98.1172</td>\n      <td>Antipyretics</td>\n      <td>mild</td>\n      <td>0.144221</td>\n      <td>DownTown</td>\n      <td>Tier 2</td>\n      <td>Unknown</td>\n      <td>NaN</td>\n    </tr>\n    <tr>\n      <th>3</th>\n      <td>EQV63</td>\n      <td>18.30</td>\n      <td>Area010</td>\n      <td>1996</td>\n      <td>135.3730</td>\n      <td>Tranquilizers</td>\n      <td>mild</td>\n      <td>0.100388</td>\n      <td>MidTownResidential</td>\n      <td>Tier 3</td>\n      <td>Unknown</td>\n      <td>NaN</td>\n    </tr>\n    <tr>\n      <th>4</th>\n      <td>AIR10</td>\n      <td>NaN</td>\n      <td>Area019</td>\n      <td>1983</td>\n      <td>112.8016</td>\n      <td>OralContraceptives</td>\n      <td>mild</td>\n      <td>0.022585</td>\n      <td>MidTownResidential</td>\n      <td>Tier 1</td>\n      <td>Small</td>\n      <td>NaN</td>\n    </tr>\n  </tbody>\n</table>\n</div>"
     },
     "metadata": {},
     "execution_count": 9
    }
   ],
   "source": [
    "cf_test.head()"
   ]
  },
  {
   "cell_type": "code",
   "execution_count": 33,
   "metadata": {},
   "outputs": [],
   "source": [
    "# cf_train.isnull().sum()"
   ]
  },
  {
   "cell_type": "code",
   "execution_count": 34,
   "metadata": {},
   "outputs": [],
   "source": [
    "# cf_test.isnull().sum()"
   ]
  },
  {
   "cell_type": "markdown",
   "metadata": {},
   "source": [
    "### Pre_processing the data"
   ]
  },
  {
   "cell_type": "code",
   "execution_count": 41,
   "metadata": {},
   "outputs": [],
   "source": [
    "cf_train['data'] = 'train'\n",
    "cf_test['data'] = 'test'"
   ]
  },
  {
   "cell_type": "code",
   "execution_count": 42,
   "metadata": {},
   "outputs": [],
   "source": [
    "cf_all = pd.concat([cf_train,cf_test],axis=0)"
   ]
  },
  {
   "cell_type": "code",
   "execution_count": 78,
   "metadata": {},
   "outputs": [
    {
     "name": "stdout",
     "output_type": "stream",
     "text": [
      "<class 'pandas.core.frame.DataFrame'>\n",
      "Int64Index: 8523 entries, 0 to 1704\n",
      "Data columns (total 22 columns):\n",
      " #   Column                            Non-Null Count  Dtype  \n",
      "---  ------                            --------------  -----  \n",
      " 0   Medicine_ID                       8523 non-null   object \n",
      " 1   Counterfeit_Weight                7060 non-null   float64\n",
      " 2   DistArea_ID                       8523 non-null   object \n",
      " 3   Active_Since                      8523 non-null   int64  \n",
      " 4   Medicine_MRP                      8523 non-null   float64\n",
      " 5   SidEffect_Level                   8523 non-null   object \n",
      " 6   Availability_rating               8523 non-null   float64\n",
      " 7   Area_Type                         8523 non-null   object \n",
      " 8   Area_City_Type                    8523 non-null   object \n",
      " 9   Area_dist_level                   8523 non-null   object \n",
      " 10  Counterfeit_Sales                 6818 non-null   float64\n",
      " 11  data                              8523 non-null   object \n",
      " 12  Medicine_Type_Antibiotics         8523 non-null   int32  \n",
      " 13  Medicine_Type_Hreplacements       8523 non-null   int32  \n",
      " 14  Medicine_Type_Antiseptics         8523 non-null   int32  \n",
      " 15  Medicine_Type_OralContraceptives  8523 non-null   int32  \n",
      " 16  Medicine_Type_Antipyretics        8523 non-null   int32  \n",
      " 17  Medicine_Type_Cardiac             8523 non-null   int32  \n",
      " 18  Medicine_Type_Mstablizers         8523 non-null   int32  \n",
      " 19  Medicine_Type_Tranquilizers       8523 non-null   int32  \n",
      " 20  Medicine_Type_Analgesics          8523 non-null   int32  \n",
      " 21  Medicine_Type_Antimalarial        8523 non-null   int32  \n",
      "dtypes: float64(4), int32(10), int64(1), object(7)\n",
      "memory usage: 1.2+ MB\n"
     ]
    }
   ],
   "source": [
    "cf_all.info()"
   ]
  },
  {
   "cell_type": "code",
   "execution_count": 44,
   "metadata": {},
   "outputs": [
    {
     "data": {
      "text/plain": [
       "train    6818\n",
       "test     1705\n",
       "Name: data, dtype: int64"
      ]
     },
     "execution_count": 44,
     "metadata": {},
     "output_type": "execute_result"
    }
   ],
   "source": [
    "cf_all['data'].value_counts()"
   ]
  },
  {
   "cell_type": "code",
   "execution_count": 45,
   "metadata": {},
   "outputs": [
    {
     "data": {
      "text/plain": [
       "Medicine_ID               0\n",
       "Counterfeit_Weight     1463\n",
       "DistArea_ID               0\n",
       "Active_Since              0\n",
       "Medicine_MRP              0\n",
       "Medicine_Type             0\n",
       "SidEffect_Level           0\n",
       "Availability_rating       0\n",
       "Area_Type                 0\n",
       "Area_City_Type            0\n",
       "Area_dist_level           0\n",
       "Counterfeit_Sales      1705\n",
       "data                      0\n",
       "dtype: int64"
      ]
     },
     "execution_count": 45,
     "metadata": {},
     "output_type": "execute_result"
    }
   ],
   "source": [
    "cf_all.isnull().sum()"
   ]
  },
  {
   "cell_type": "code",
   "execution_count": 54,
   "metadata": {},
   "outputs": [],
   "source": [
    "cat_cols = cf_all.select_dtypes('object').columns"
   ]
  },
  {
   "cell_type": "code",
   "execution_count": 55,
   "metadata": {},
   "outputs": [],
   "source": [
    "cat_cols = cat_cols.drop('data')"
   ]
  },
  {
   "cell_type": "code",
   "execution_count": 56,
   "metadata": {},
   "outputs": [
    {
     "data": {
      "text/plain": [
       "Index(['Medicine_ID', 'DistArea_ID', 'Medicine_Type', 'SidEffect_Level',\n",
       "       'Area_Type', 'Area_City_Type', 'Area_dist_level'],\n",
       "      dtype='object')"
      ]
     },
     "execution_count": 56,
     "metadata": {},
     "output_type": "execute_result"
    }
   ],
   "source": [
    "cat_cols"
   ]
  },
  {
   "cell_type": "code",
   "execution_count": 63,
   "metadata": {},
   "outputs": [
    {
     "data": {
      "text/plain": [
       "Antibiotics           1232\n",
       "Hreplacements         1200\n",
       "Antiseptics            910\n",
       "OralContraceptives     856\n",
       "Antipyretics           682\n",
       "Cardiac                649\n",
       "Mstablizers            648\n",
       "Tranquilizers          520\n",
       "Analgesics             445\n",
       "Antimalarial           425\n",
       "Antacids               251\n",
       "Statins                214\n",
       "MuscleRelaxants        169\n",
       "Antifungal             148\n",
       "Stimulants             110\n",
       "Antiviral               64\n",
       "Name: Medicine_Type, dtype: int64"
      ]
     },
     "execution_count": 63,
     "metadata": {},
     "output_type": "execute_result"
    }
   ],
   "source": [
    "cf_all['Medicine_Type'].value_counts()"
   ]
  },
  {
   "cell_type": "code",
   "execution_count": 97,
   "metadata": {},
   "outputs": [
    {
     "name": "stdout",
     "output_type": "stream",
     "text": [
      "Medicine_ID : 1557\n",
      "Counterfeit_Weight : 416\n",
      "data : 2\n"
     ]
    }
   ],
   "source": [
    "for cat in cf_all.select_dtypes('object').columns:\n",
    "    print(cat, ':', cf_all[cat].nunique())"
   ]
  },
  {
   "cell_type": "code",
   "execution_count": 75,
   "metadata": {},
   "outputs": [],
   "source": [
    "k = cf_all['Medicine_Type'].value_counts()\n",
    "for val in k.axes[0][:10]:\n",
    "    varname = 'Medicine_Type_'+val.replace(',','_').replace(' ','_')\n",
    "    cf_all[varname] = np.where(cf_all['Medicine_Type']==val,1,0)\n",
    "    \n",
    "del cf_all['Medicine_Type']"
   ]
  },
  {
   "cell_type": "code",
   "execution_count": 74,
   "metadata": {},
   "outputs": [
    {
     "data": {
      "text/plain": [
       "Index(['Antibiotics', 'Hreplacements', 'Antiseptics', 'OralContraceptives',\n",
       "       'Antipyretics'],\n",
       "      dtype='object')"
      ]
     },
     "execution_count": 74,
     "metadata": {},
     "output_type": "execute_result"
    }
   ],
   "source": []
  },
  {
   "cell_type": "code",
   "execution_count": 10,
   "metadata": {},
   "outputs": [],
   "source": [
    "import matplotlib.pyplot as plt"
   ]
  },
  {
   "cell_type": "code",
   "execution_count": 11,
   "metadata": {},
   "outputs": [
    {
     "output_type": "execute_result",
     "data": {
      "text/plain": "'C:\\\\Users\\\\yasar\\\\Dropbox\\\\Edvancer\\\\ML_Python\\\\$$___Python - Project--3___$$'"
     },
     "metadata": {},
     "execution_count": 11
    }
   ],
   "source": [
    "pwd"
   ]
  },
  {
   "cell_type": "code",
   "execution_count": 82,
   "metadata": {},
   "outputs": [],
   "source": [
    "for cat in ['DistArea_ID', 'SidEffect_Level','Area_Type', 'Area_City_Type', 'Area_dist_level']:\n",
    "    temp = pd.get_dummies(cf_all[cat],prefix=cat,drop_first=True)\n",
    "    cf_all = pd.concat([temp,cf_all],1)\n",
    "    cf_all.drop([cat],1,inplace=True)"
   ]
  },
  {
   "cell_type": "code",
   "execution_count": 111,
   "metadata": {},
   "outputs": [
    {
     "name": "stdout",
     "output_type": "stream",
     "text": [
      "<class 'pandas.core.frame.DataFrame'>\n",
      "Int64Index: 8523 entries, 0 to 1704\n",
      "Data columns (total 35 columns):\n",
      " #   Column                            Non-Null Count  Dtype  \n",
      "---  ------                            --------------  -----  \n",
      " 0   Area_dist_level_Medium            8523 non-null   uint8  \n",
      " 1   Area_dist_level_Small             8523 non-null   uint8  \n",
      " 2   Area_dist_level_Unknown           8523 non-null   uint8  \n",
      " 3   Area_City_Type_Tier 2             8523 non-null   uint8  \n",
      " 4   Area_City_Type_Tier 3             8523 non-null   uint8  \n",
      " 5   Area_Type_DownTown                8523 non-null   uint8  \n",
      " 6   Area_Type_Industrial              8523 non-null   uint8  \n",
      " 7   Area_Type_MidTownResidential      8523 non-null   uint8  \n",
      " 8   SidEffect_Level_mild              8523 non-null   uint8  \n",
      " 9   DistArea_ID_Area013               8523 non-null   uint8  \n",
      " 10  DistArea_ID_Area017               8523 non-null   uint8  \n",
      " 11  DistArea_ID_Area018               8523 non-null   uint8  \n",
      " 12  DistArea_ID_Area019               8523 non-null   uint8  \n",
      " 13  DistArea_ID_Area027               8523 non-null   uint8  \n",
      " 14  DistArea_ID_Area035               8523 non-null   uint8  \n",
      " 15  DistArea_ID_Area045               8523 non-null   uint8  \n",
      " 16  DistArea_ID_Area046               8523 non-null   uint8  \n",
      " 17  DistArea_ID_Area049               8523 non-null   uint8  \n",
      " 18  Medicine_ID                       8523 non-null   object \n",
      " 19  Counterfeit_Weight                8523 non-null   float64\n",
      " 20  Active_Since                      8523 non-null   int64  \n",
      " 21  Medicine_MRP                      8523 non-null   float64\n",
      " 22  Availability_rating               8523 non-null   float64\n",
      " 23  Counterfeit_Sales                 6818 non-null   float64\n",
      " 24  data                              8523 non-null   object \n",
      " 25  Medicine_Type_Antibiotics         8523 non-null   int32  \n",
      " 26  Medicine_Type_Hreplacements       8523 non-null   int32  \n",
      " 27  Medicine_Type_Antiseptics         8523 non-null   int32  \n",
      " 28  Medicine_Type_OralContraceptives  8523 non-null   int32  \n",
      " 29  Medicine_Type_Antipyretics        8523 non-null   int32  \n",
      " 30  Medicine_Type_Cardiac             8523 non-null   int32  \n",
      " 31  Medicine_Type_Mstablizers         8523 non-null   int32  \n",
      " 32  Medicine_Type_Tranquilizers       8523 non-null   int32  \n",
      " 33  Medicine_Type_Analgesics          8523 non-null   int32  \n",
      " 34  Medicine_Type_Antimalarial        8523 non-null   int32  \n",
      "dtypes: float64(4), int32(10), int64(1), object(2), uint8(18)\n",
      "memory usage: 1015.4+ KB\n"
     ]
    }
   ],
   "source": [
    "cf_all.info()"
   ]
  },
  {
   "cell_type": "code",
   "execution_count": 109,
   "metadata": {},
   "outputs": [
    {
     "data": {
      "text/plain": [
       "0"
      ]
     },
     "execution_count": 109,
     "metadata": {},
     "output_type": "execute_result"
    }
   ],
   "source": [
    "cf_all['Counterfeit_Weight'].isnull().sum()"
   ]
  },
  {
   "cell_type": "code",
   "execution_count": 110,
   "metadata": {},
   "outputs": [
    {
     "data": {
      "text/plain": [
       "Area_dist_level_Medium                 0\n",
       "Area_dist_level_Small                  0\n",
       "Area_dist_level_Unknown                0\n",
       "Area_City_Type_Tier 2                  0\n",
       "Area_City_Type_Tier 3                  0\n",
       "Area_Type_DownTown                     0\n",
       "Area_Type_Industrial                   0\n",
       "Area_Type_MidTownResidential           0\n",
       "SidEffect_Level_mild                   0\n",
       "DistArea_ID_Area013                    0\n",
       "DistArea_ID_Area017                    0\n",
       "DistArea_ID_Area018                    0\n",
       "DistArea_ID_Area019                    0\n",
       "DistArea_ID_Area027                    0\n",
       "DistArea_ID_Area035                    0\n",
       "DistArea_ID_Area045                    0\n",
       "DistArea_ID_Area046                    0\n",
       "DistArea_ID_Area049                    0\n",
       "Medicine_ID                            0\n",
       "Counterfeit_Weight                     0\n",
       "Active_Since                           0\n",
       "Medicine_MRP                           0\n",
       "Availability_rating                    0\n",
       "Counterfeit_Sales                   1705\n",
       "data                                   0\n",
       "Medicine_Type_Antibiotics              0\n",
       "Medicine_Type_Hreplacements            0\n",
       "Medicine_Type_Antiseptics              0\n",
       "Medicine_Type_OralContraceptives       0\n",
       "Medicine_Type_Antipyretics             0\n",
       "Medicine_Type_Cardiac                  0\n",
       "Medicine_Type_Mstablizers              0\n",
       "Medicine_Type_Tranquilizers            0\n",
       "Medicine_Type_Analgesics               0\n",
       "Medicine_Type_Antimalarial             0\n",
       "dtype: int64"
      ]
     },
     "execution_count": 110,
     "metadata": {},
     "output_type": "execute_result"
    }
   ],
   "source": [
    "cf_all.isnull().sum()"
   ]
  },
  {
   "cell_type": "code",
   "execution_count": 108,
   "metadata": {},
   "outputs": [],
   "source": [
    "cf_all['Counterfeit_Weight'].fillna(cf_all['Counterfeit_Weight'].mean(),inplace=True)\n",
    "# cf_all['Counterfeit_Weight']= pd.to_numeric(cf_all['Counterfeit_Weight'],errors='coerce')"
   ]
  },
  {
   "cell_type": "code",
   "execution_count": 112,
   "metadata": {},
   "outputs": [
    {
     "data": {
      "text/plain": [
       "(8523, 35)"
      ]
     },
     "execution_count": 112,
     "metadata": {},
     "output_type": "execute_result"
    }
   ],
   "source": [
    "cf_all.shape"
   ]
  },
  {
   "cell_type": "code",
   "execution_count": 113,
   "metadata": {},
   "outputs": [],
   "source": [
    "train_clean = cf_all[cf_all['data']=='train']\n",
    "del train_clean['data']\n",
    "test_clean = cf_all[cf_all['data']=='test']\n",
    "test_clean.drop(['data','Counterfeit_Sales'],1,inplace=True)"
   ]
  },
  {
   "cell_type": "code",
   "execution_count": 114,
   "metadata": {},
   "outputs": [
    {
     "data": {
      "text/plain": [
       "((6818, 34), (1705, 33))"
      ]
     },
     "execution_count": 114,
     "metadata": {},
     "output_type": "execute_result"
    }
   ],
   "source": [
    "train_clean.shape,test_clean.shape"
   ]
  },
  {
   "cell_type": "code",
   "execution_count": 140,
   "metadata": {},
   "outputs": [
    {
     "data": {
      "text/plain": [
       "((6818, 32), (6818,))"
      ]
     },
     "execution_count": 140,
     "metadata": {},
     "output_type": "execute_result"
    }
   ],
   "source": [
    "X = train_clean.drop(['Counterfeit_Sales','Medicine_ID'],1)\n",
    "y = train_clean['Counterfeit_Sales']\n",
    "X.shape,y.shape"
   ]
  },
  {
   "cell_type": "code",
   "execution_count": 141,
   "metadata": {},
   "outputs": [],
   "source": [
    "X_train, X_val, y_train, y_val = train_test_split(X, y, test_size=0.2, random_state=123)"
   ]
  },
  {
   "cell_type": "code",
   "execution_count": 142,
   "metadata": {},
   "outputs": [],
   "source": [
    "from sklearn.linear_model import LinearRegression"
   ]
  },
  {
   "cell_type": "code",
   "execution_count": 176,
   "metadata": {},
   "outputs": [],
   "source": [
    "lr = LinearRegression(fit_intercept=True)"
   ]
  },
  {
   "cell_type": "code",
   "execution_count": 180,
   "metadata": {},
   "outputs": [
    {
     "data": {
      "text/plain": [
       "{'copy_X': True, 'fit_intercept': True, 'n_jobs': None, 'normalize': False}"
      ]
     },
     "execution_count": 180,
     "metadata": {},
     "output_type": "execute_result"
    }
   ],
   "source": [
    "lr.get_params()"
   ]
  },
  {
   "cell_type": "code",
   "execution_count": 177,
   "metadata": {},
   "outputs": [
    {
     "data": {
      "text/plain": [
       "LinearRegression()"
      ]
     },
     "execution_count": 177,
     "metadata": {},
     "output_type": "execute_result"
    }
   ],
   "source": [
    "lr.fit(X_train,y_train)"
   ]
  },
  {
   "cell_type": "code",
   "execution_count": 178,
   "metadata": {},
   "outputs": [],
   "source": [
    "pred = lr.predict(X_val)"
   ]
  },
  {
   "cell_type": "code",
   "execution_count": 147,
   "metadata": {},
   "outputs": [
    {
     "data": {
      "text/plain": [
       "((1364,), (1364,))"
      ]
     },
     "execution_count": 147,
     "metadata": {},
     "output_type": "execute_result"
    }
   ],
   "source": [
    "pred.shape,y_val.shape"
   ]
  },
  {
   "cell_type": "code",
   "execution_count": 148,
   "metadata": {},
   "outputs": [],
   "source": [
    "err = y_val-pred"
   ]
  },
  {
   "cell_type": "code",
   "execution_count": 152,
   "metadata": {},
   "outputs": [],
   "source": [
    "from sklearn.metrics import mean_absolute_error\n",
    "MAE = mean_absolute_error(y_val,pred)"
   ]
  },
  {
   "cell_type": "code",
   "execution_count": 153,
   "metadata": {},
   "outputs": [
    {
     "data": {
      "text/plain": [
       "845.6307788581305"
      ]
     },
     "execution_count": 153,
     "metadata": {},
     "output_type": "execute_result"
    }
   ],
   "source": [
    "MAE"
   ]
  },
  {
   "cell_type": "code",
   "execution_count": 154,
   "metadata": {},
   "outputs": [],
   "source": [
    "Score = 1-(MAE/1660)"
   ]
  },
  {
   "cell_type": "code",
   "execution_count": 155,
   "metadata": {},
   "outputs": [
    {
     "data": {
      "text/plain": [
       "0.4905838681577527"
      ]
     },
     "execution_count": 155,
     "metadata": {},
     "output_type": "execute_result"
    }
   ],
   "source": [
    "Score  #FOR LINEAR REGRESSION"
   ]
  },
  {
   "cell_type": "markdown",
   "metadata": {},
   "source": [
    "### DECISION TREE REGRESSOR"
   ]
  },
  {
   "cell_type": "code",
   "execution_count": 157,
   "metadata": {},
   "outputs": [],
   "source": [
    "from sklearn.model_selection import RandomizedSearchCV"
   ]
  },
  {
   "cell_type": "code",
   "execution_count": 158,
   "metadata": {},
   "outputs": [],
   "source": [
    "from sklearn.tree import DecisionTreeRegressor"
   ]
  },
  {
   "cell_type": "code",
   "execution_count": 165,
   "metadata": {},
   "outputs": [],
   "source": [
    "params = {\n",
    "    'criterion' : ['mse',None],\n",
    "    'max_depth' : [None,5,10,15,20,30,40,50,70],\n",
    "    'min_samples_leaf':[1,2,5,10,15,20],\n",
    "    'min_samples_split':[2,5,10,15,20,25]\n",
    "}"
   ]
  },
  {
   "cell_type": "code",
   "execution_count": 169,
   "metadata": {},
   "outputs": [
    {
     "data": {
      "text/plain": [
       "6480"
      ]
     },
     "execution_count": 169,
     "metadata": {},
     "output_type": "execute_result"
    }
   ],
   "source": [
    "2*9*6*6*10"
   ]
  },
  {
   "cell_type": "code",
   "execution_count": 166,
   "metadata": {},
   "outputs": [],
   "source": [
    "clf = DecisionTreeRegressor()"
   ]
  },
  {
   "cell_type": "code",
   "execution_count": 170,
   "metadata": {},
   "outputs": [],
   "source": [
    "random_search = RandomizedSearchCV(clf,param_distributions=params,cv=10,n_jobs=-1,n_iter=100,verbose=20)"
   ]
  },
  {
   "cell_type": "code",
   "execution_count": 183,
   "metadata": {},
   "outputs": [
    {
     "name": "stdout",
     "output_type": "stream",
     "text": [
      "Fitting 10 folds for each of 100 candidates, totalling 1000 fits\n"
     ]
    },
    {
     "name": "stderr",
     "output_type": "stream",
     "text": [
      "[Parallel(n_jobs=-1)]: Using backend LokyBackend with 4 concurrent workers.\n",
      "[Parallel(n_jobs=-1)]: Done   1 tasks      | elapsed:    0.0s\n",
      "[Parallel(n_jobs=-1)]: Batch computation too fast (0.0420s.) Setting batch_size=2.\n",
      "[Parallel(n_jobs=-1)]: Done   2 tasks      | elapsed:    0.0s\n",
      "[Parallel(n_jobs=-1)]: Done   3 tasks      | elapsed:    0.0s\n",
      "[Parallel(n_jobs=-1)]: Done   4 tasks      | elapsed:    0.0s\n",
      "[Parallel(n_jobs=-1)]: Done   5 tasks      | elapsed:    0.0s\n",
      "[Parallel(n_jobs=-1)]: Done   6 tasks      | elapsed:    0.0s\n",
      "[Parallel(n_jobs=-1)]: Done   7 tasks      | elapsed:    0.0s\n",
      "[Parallel(n_jobs=-1)]: Done   8 tasks      | elapsed:    0.0s\n",
      "[Parallel(n_jobs=-1)]: Done  10 tasks      | elapsed:    0.0s\n",
      "[Parallel(n_jobs=-1)]: Batch computation too fast (0.0860s.) Setting batch_size=4.\n",
      "[Parallel(n_jobs=-1)]: Done  12 tasks      | elapsed:    0.1s\n",
      "[Parallel(n_jobs=-1)]: Done  14 tasks      | elapsed:    0.1s\n",
      "[Parallel(n_jobs=-1)]: Done  16 tasks      | elapsed:    0.1s\n",
      "[Parallel(n_jobs=-1)]: Done  18 tasks      | elapsed:    0.1s\n",
      "[Parallel(n_jobs=-1)]: Done  20 tasks      | elapsed:    0.1s\n",
      "[Parallel(n_jobs=-1)]: Done  22 tasks      | elapsed:    0.1s\n",
      "[Parallel(n_jobs=-1)]: Done  24 tasks      | elapsed:    0.1s\n",
      "[Parallel(n_jobs=-1)]: Done  28 tasks      | elapsed:    0.2s\n",
      "[Parallel(n_jobs=-1)]: Batch computation too fast (0.0925s.) Setting batch_size=8.\n",
      "[Parallel(n_jobs=-1)]: Done  32 tasks      | elapsed:    0.2s\n",
      "[Parallel(n_jobs=-1)]: Done  36 tasks      | elapsed:    0.2s\n",
      "[Parallel(n_jobs=-1)]: Done  40 tasks      | elapsed:    0.2s\n",
      "[Parallel(n_jobs=-1)]: Done  44 tasks      | elapsed:    0.2s\n",
      "[Parallel(n_jobs=-1)]: Done  48 tasks      | elapsed:    0.2s\n",
      "[Parallel(n_jobs=-1)]: Done  52 tasks      | elapsed:    0.3s\n",
      "[Parallel(n_jobs=-1)]: Done  60 tasks      | elapsed:    0.4s\n",
      "[Parallel(n_jobs=-1)]: Batch computation too fast (0.1918s.) Setting batch_size=16.\n",
      "[Parallel(n_jobs=-1)]: Done  64 tasks      | elapsed:    0.4s\n",
      "[Parallel(n_jobs=-1)]: Done  72 tasks      | elapsed:    0.5s\n",
      "[Parallel(n_jobs=-1)]: Done  80 tasks      | elapsed:    0.6s\n",
      "[Parallel(n_jobs=-1)]: Done  88 tasks      | elapsed:    0.7s\n",
      "[Parallel(n_jobs=-1)]: Done  96 tasks      | elapsed:    0.8s\n",
      "[Parallel(n_jobs=-1)]: Done 104 tasks      | elapsed:    0.8s\n",
      "[Parallel(n_jobs=-1)]: Done 112 tasks      | elapsed:    0.9s\n",
      "[Parallel(n_jobs=-1)]: Done 128 tasks      | elapsed:    1.0s\n",
      "[Parallel(n_jobs=-1)]: Done 144 tasks      | elapsed:    1.0s\n",
      "[Parallel(n_jobs=-1)]: Done 160 tasks      | elapsed:    1.1s\n",
      "[Parallel(n_jobs=-1)]: Done 168 tasks      | elapsed:    1.1s\n",
      "[Parallel(n_jobs=-1)]: Done 184 tasks      | elapsed:    1.4s\n",
      "[Parallel(n_jobs=-1)]: Done 200 tasks      | elapsed:    1.8s\n",
      "[Parallel(n_jobs=-1)]: Done 216 tasks      | elapsed:    1.9s\n",
      "[Parallel(n_jobs=-1)]: Done 232 tasks      | elapsed:    1.9s\n",
      "[Parallel(n_jobs=-1)]: Done 248 tasks      | elapsed:    1.9s\n",
      "[Parallel(n_jobs=-1)]: Done 264 tasks      | elapsed:    2.1s\n",
      "[Parallel(n_jobs=-1)]: Done 280 tasks      | elapsed:    2.2s\n",
      "[Parallel(n_jobs=-1)]: Done 296 tasks      | elapsed:    2.4s\n",
      "[Parallel(n_jobs=-1)]: Done 312 tasks      | elapsed:    2.6s\n",
      "[Parallel(n_jobs=-1)]: Done 328 tasks      | elapsed:    2.7s\n",
      "[Parallel(n_jobs=-1)]: Done 344 tasks      | elapsed:    2.8s\n",
      "[Parallel(n_jobs=-1)]: Done 360 tasks      | elapsed:    2.8s\n",
      "[Parallel(n_jobs=-1)]: Done 376 tasks      | elapsed:    2.8s\n",
      "[Parallel(n_jobs=-1)]: Done 392 tasks      | elapsed:    2.9s\n",
      "[Parallel(n_jobs=-1)]: Done 408 tasks      | elapsed:    3.1s\n",
      "[Parallel(n_jobs=-1)]: Done 424 tasks      | elapsed:    3.3s\n",
      "[Parallel(n_jobs=-1)]: Done 440 tasks      | elapsed:    3.4s\n",
      "[Parallel(n_jobs=-1)]: Done 456 tasks      | elapsed:    3.4s\n",
      "[Parallel(n_jobs=-1)]: Done 472 tasks      | elapsed:    3.4s\n",
      "[Parallel(n_jobs=-1)]: Done 488 tasks      | elapsed:    3.5s\n",
      "[Parallel(n_jobs=-1)]: Done 504 tasks      | elapsed:    3.6s\n",
      "[Parallel(n_jobs=-1)]: Done 520 tasks      | elapsed:    3.6s\n",
      "[Parallel(n_jobs=-1)]: Done 536 tasks      | elapsed:    3.9s\n",
      "[Parallel(n_jobs=-1)]: Done 552 tasks      | elapsed:    3.9s\n",
      "[Parallel(n_jobs=-1)]: Done 568 tasks      | elapsed:    4.0s\n",
      "[Parallel(n_jobs=-1)]: Done 584 tasks      | elapsed:    4.0s\n",
      "[Parallel(n_jobs=-1)]: Done 600 tasks      | elapsed:    4.2s\n",
      "[Parallel(n_jobs=-1)]: Done 616 tasks      | elapsed:    4.4s\n",
      "[Parallel(n_jobs=-1)]: Done 632 tasks      | elapsed:    4.4s\n",
      "[Parallel(n_jobs=-1)]: Done 648 tasks      | elapsed:    4.5s\n",
      "[Parallel(n_jobs=-1)]: Done 664 tasks      | elapsed:    4.5s\n",
      "[Parallel(n_jobs=-1)]: Done 680 tasks      | elapsed:    4.5s\n",
      "[Parallel(n_jobs=-1)]: Done 696 tasks      | elapsed:    4.7s\n",
      "[Parallel(n_jobs=-1)]: Done 712 tasks      | elapsed:    4.9s\n",
      "[Parallel(n_jobs=-1)]: Done 728 tasks      | elapsed:    4.9s\n",
      "[Parallel(n_jobs=-1)]: Done 744 tasks      | elapsed:    5.0s\n",
      "[Parallel(n_jobs=-1)]: Done 760 tasks      | elapsed:    5.0s\n",
      "[Parallel(n_jobs=-1)]: Done 776 tasks      | elapsed:    5.0s\n",
      "[Parallel(n_jobs=-1)]: Done 792 tasks      | elapsed:    5.1s\n",
      "[Parallel(n_jobs=-1)]: Done 808 tasks      | elapsed:    5.2s\n",
      "[Parallel(n_jobs=-1)]: Done 824 tasks      | elapsed:    5.3s\n",
      "[Parallel(n_jobs=-1)]: Done 840 tasks      | elapsed:    5.5s\n",
      "[Parallel(n_jobs=-1)]: Done 856 tasks      | elapsed:    5.7s\n",
      "[Parallel(n_jobs=-1)]: Done 872 tasks      | elapsed:    5.8s\n",
      "[Parallel(n_jobs=-1)]: Done 888 tasks      | elapsed:    5.8s\n",
      "[Parallel(n_jobs=-1)]: Done 904 tasks      | elapsed:    5.8s\n",
      "[Parallel(n_jobs=-1)]: Done 905 tasks      | elapsed:    5.9s\n",
      "[Parallel(n_jobs=-1)]: Done 906 tasks      | elapsed:    5.9s\n",
      "[Parallel(n_jobs=-1)]: Done 922 tasks      | elapsed:    5.9s\n",
      "[Parallel(n_jobs=-1)]: Done 923 tasks      | elapsed:    5.9s\n",
      "[Parallel(n_jobs=-1)]: Done 924 tasks      | elapsed:    5.9s\n",
      "[Parallel(n_jobs=-1)]: Done 925 tasks      | elapsed:    5.9s\n",
      "[Parallel(n_jobs=-1)]: Done 926 tasks      | elapsed:    5.9s\n",
      "[Parallel(n_jobs=-1)]: Done 927 tasks      | elapsed:    5.9s\n",
      "[Parallel(n_jobs=-1)]: Done 928 tasks      | elapsed:    5.9s\n",
      "[Parallel(n_jobs=-1)]: Done 944 tasks      | elapsed:    6.0s\n",
      "[Parallel(n_jobs=-1)]: Done 945 tasks      | elapsed:    6.0s\n",
      "[Parallel(n_jobs=-1)]: Done 946 tasks      | elapsed:    6.0s\n",
      "[Parallel(n_jobs=-1)]: Done 947 tasks      | elapsed:    6.0s\n",
      "[Parallel(n_jobs=-1)]: Done 948 tasks      | elapsed:    6.0s\n",
      "[Parallel(n_jobs=-1)]: Done 949 tasks      | elapsed:    6.0s\n",
      "[Parallel(n_jobs=-1)]: Done 950 tasks      | elapsed:    6.0s\n",
      "[Parallel(n_jobs=-1)]: Done 951 tasks      | elapsed:    6.1s\n",
      "[Parallel(n_jobs=-1)]: Done 952 tasks      | elapsed:    6.1s\n",
      "[Parallel(n_jobs=-1)]: Done 953 tasks      | elapsed:    6.1s\n",
      "[Parallel(n_jobs=-1)]: Done 954 tasks      | elapsed:    6.1s\n",
      "[Parallel(n_jobs=-1)]: Done 955 tasks      | elapsed:    6.1s\n",
      "[Parallel(n_jobs=-1)]: Done 956 tasks      | elapsed:    6.1s\n",
      "[Parallel(n_jobs=-1)]: Done 957 tasks      | elapsed:    6.1s\n",
      "[Parallel(n_jobs=-1)]: Done 958 tasks      | elapsed:    6.1s\n",
      "[Parallel(n_jobs=-1)]: Done 959 tasks      | elapsed:    6.2s\n",
      "[Parallel(n_jobs=-1)]: Done 960 tasks      | elapsed:    6.2s\n",
      "[Parallel(n_jobs=-1)]: Done 961 tasks      | elapsed:    6.2s\n",
      "[Parallel(n_jobs=-1)]: Done 962 tasks      | elapsed:    6.2s\n",
      "[Parallel(n_jobs=-1)]: Done 963 tasks      | elapsed:    6.2s\n",
      "[Parallel(n_jobs=-1)]: Done 964 tasks      | elapsed:    6.2s\n",
      "[Parallel(n_jobs=-1)]: Done 965 tasks      | elapsed:    6.2s\n",
      "[Parallel(n_jobs=-1)]: Done 966 tasks      | elapsed:    6.2s\n",
      "[Parallel(n_jobs=-1)]: Done 967 tasks      | elapsed:    6.2s\n",
      "[Parallel(n_jobs=-1)]: Done 968 tasks      | elapsed:    6.2s\n",
      "[Parallel(n_jobs=-1)]: Done 969 tasks      | elapsed:    6.2s\n",
      "[Parallel(n_jobs=-1)]: Done 970 tasks      | elapsed:    6.2s\n",
      "[Parallel(n_jobs=-1)]: Done 971 tasks      | elapsed:    6.2s\n",
      "[Parallel(n_jobs=-1)]: Done 972 tasks      | elapsed:    6.2s\n",
      "[Parallel(n_jobs=-1)]: Done 973 tasks      | elapsed:    6.2s\n",
      "[Parallel(n_jobs=-1)]: Done 974 tasks      | elapsed:    6.2s\n",
      "[Parallel(n_jobs=-1)]: Done 975 tasks      | elapsed:    6.3s\n",
      "[Parallel(n_jobs=-1)]: Done 976 tasks      | elapsed:    6.3s\n",
      "[Parallel(n_jobs=-1)]: Done 977 tasks      | elapsed:    6.3s\n",
      "[Parallel(n_jobs=-1)]: Done 978 tasks      | elapsed:    6.3s\n",
      "[Parallel(n_jobs=-1)]: Done 1000 out of 1000 | elapsed:    6.4s finished\n"
     ]
    },
    {
     "data": {
      "text/plain": [
       "RandomizedSearchCV(cv=10, estimator=DecisionTreeRegressor(), n_iter=100,\n",
       "                   n_jobs=-1,\n",
       "                   param_distributions={'criterion': ['mse', None],\n",
       "                                        'max_depth': [None, 5, 10, 15, 20, 30,\n",
       "                                                      40, 50, 70],\n",
       "                                        'min_samples_leaf': [1, 2, 5, 10, 15,\n",
       "                                                             20],\n",
       "                                        'min_samples_split': [2, 5, 10, 15, 20,\n",
       "                                                              25]},\n",
       "                   verbose=20)"
      ]
     },
     "execution_count": 183,
     "metadata": {},
     "output_type": "execute_result"
    }
   ],
   "source": [
    "random_search.fit(X_train,y_train)"
   ]
  },
  {
   "cell_type": "code",
   "execution_count": 164,
   "metadata": {},
   "outputs": [
    {
     "data": {
      "text/plain": [
       "{'ccp_alpha': 0.0,\n",
       " 'criterion': 'mse',\n",
       " 'max_depth': None,\n",
       " 'max_features': None,\n",
       " 'max_leaf_nodes': None,\n",
       " 'min_impurity_decrease': 0.0,\n",
       " 'min_impurity_split': None,\n",
       " 'min_samples_leaf': 1,\n",
       " 'min_samples_split': 2,\n",
       " 'min_weight_fraction_leaf': 0.0,\n",
       " 'presort': 'deprecated',\n",
       " 'random_state': None,\n",
       " 'splitter': 'best'}"
      ]
     },
     "execution_count": 164,
     "metadata": {},
     "output_type": "execute_result"
    }
   ],
   "source": [
    "clf.get_params()"
   ]
  },
  {
   "cell_type": "code",
   "execution_count": 172,
   "metadata": {},
   "outputs": [],
   "source": [
    "def report(results, n_top=3):\n",
    "    for i in range(1,n_top+1):\n",
    "        candidates = np.flatnonzero(results['rank_test_score']== i)\n",
    "        \n",
    "        for candidate in candidates:\n",
    "            print('Model with rank: {0}'.format(i))\n",
    "            print('Mean Validation Score: {0:.8f} (std:{1:.3f})'.format(\n",
    "                    results['mean_test_score'][candidate],\n",
    "                    results['std_test_score'][candidate]))\n",
    "            print(\"Parameters:{0}\".format(results['params'][candidate]))\n",
    "            print(\"\")"
   ]
  },
  {
   "cell_type": "code",
   "execution_count": 184,
   "metadata": {},
   "outputs": [
    {
     "name": "stdout",
     "output_type": "stream",
     "text": [
      "Model with rank: 1\n",
      "Mean Validation Score: 0.59452833 (std:0.022)\n",
      "Parameters:{'min_samples_split': 20, 'min_samples_leaf': 20, 'max_depth': 5, 'criterion': 'mse'}\n",
      "\n",
      "Model with rank: 2\n",
      "Mean Validation Score: 0.59396771 (std:0.023)\n",
      "Parameters:{'min_samples_split': 5, 'min_samples_leaf': 15, 'max_depth': 5, 'criterion': 'mse'}\n",
      "\n",
      "Model with rank: 3\n",
      "Mean Validation Score: 0.59202097 (std:0.023)\n",
      "Parameters:{'min_samples_split': 15, 'min_samples_leaf': 10, 'max_depth': 5, 'criterion': 'mse'}\n",
      "\n",
      "Model with rank: 3\n",
      "Mean Validation Score: 0.59202097 (std:0.023)\n",
      "Parameters:{'min_samples_split': 2, 'min_samples_leaf': 10, 'max_depth': 5, 'criterion': 'mse'}\n",
      "\n",
      "Model with rank: 5\n",
      "Mean Validation Score: 0.59140420 (std:0.023)\n",
      "Parameters:{'min_samples_split': 15, 'min_samples_leaf': 5, 'max_depth': 5, 'criterion': 'mse'}\n",
      "\n"
     ]
    }
   ],
   "source": [
    "report(random_search.cv_results_,5)"
   ]
  },
  {
   "cell_type": "code",
   "execution_count": 185,
   "metadata": {},
   "outputs": [
    {
     "data": {
      "text/plain": [
       "DecisionTreeRegressor(max_depth=5, min_samples_leaf=20, min_samples_split=20)"
      ]
     },
     "execution_count": 185,
     "metadata": {},
     "output_type": "execute_result"
    }
   ],
   "source": [
    "random_search.best_estimator_"
   ]
  },
  {
   "cell_type": "code",
   "execution_count": 186,
   "metadata": {},
   "outputs": [],
   "source": [
    "dtree_reg = random_search.best_estimator_"
   ]
  },
  {
   "cell_type": "code",
   "execution_count": 187,
   "metadata": {},
   "outputs": [
    {
     "data": {
      "text/plain": [
       "DecisionTreeRegressor(max_depth=5, min_samples_leaf=20, min_samples_split=20)"
      ]
     },
     "execution_count": 187,
     "metadata": {},
     "output_type": "execute_result"
    }
   ],
   "source": [
    "dtree_reg.fit(X_train,y_train)"
   ]
  },
  {
   "cell_type": "code",
   "execution_count": 188,
   "metadata": {},
   "outputs": [],
   "source": [
    "pred = dtree_reg.predict(X_val)"
   ]
  },
  {
   "cell_type": "code",
   "execution_count": 189,
   "metadata": {},
   "outputs": [
    {
     "data": {
      "text/plain": [
       "((1364,), (1364,))"
      ]
     },
     "execution_count": 189,
     "metadata": {},
     "output_type": "execute_result"
    }
   ],
   "source": [
    "pred.shape, y_val.shape"
   ]
  },
  {
   "cell_type": "code",
   "execution_count": 190,
   "metadata": {},
   "outputs": [
    {
     "data": {
      "text/plain": [
       "769.9517934603456"
      ]
     },
     "execution_count": 190,
     "metadata": {},
     "output_type": "execute_result"
    }
   ],
   "source": [
    "MAE = mean_absolute_error(y_val,pred)\n",
    "MAE"
   ]
  },
  {
   "cell_type": "code",
   "execution_count": 191,
   "metadata": {},
   "outputs": [
    {
     "data": {
      "text/plain": [
       "0.5361736183973822"
      ]
     },
     "execution_count": 191,
     "metadata": {},
     "output_type": "execute_result"
    }
   ],
   "source": [
    "Score = 1-(MAE/1660)\n",
    "Score #For DecisionTress with RandomSearchCV"
   ]
  },
  {
   "cell_type": "code",
   "execution_count": 193,
   "metadata": {},
   "outputs": [
    {
     "data": {
      "text/plain": [
       "((1705, 33), (5454, 32))"
      ]
     },
     "execution_count": 193,
     "metadata": {},
     "output_type": "execute_result"
    }
   ],
   "source": [
    "test_clean.shape,X_train.shape"
   ]
  },
  {
   "cell_type": "code",
   "execution_count": 194,
   "metadata": {},
   "outputs": [],
   "source": [
    "X_test = test_clean.drop(['Medicine_ID'],1)"
   ]
  },
  {
   "cell_type": "code",
   "execution_count": 196,
   "metadata": {},
   "outputs": [
    {
     "data": {
      "text/plain": [
       "((1705, 32), (1364, 32))"
      ]
     },
     "execution_count": 196,
     "metadata": {},
     "output_type": "execute_result"
    }
   ],
   "source": [
    "X_test.shape,X_val.shape"
   ]
  },
  {
   "cell_type": "code",
   "execution_count": 197,
   "metadata": {},
   "outputs": [],
   "source": [
    "actual_pred = dtree_reg.predict(X_test)"
   ]
  },
  {
   "cell_type": "code",
   "execution_count": 198,
   "metadata": {},
   "outputs": [
    {
     "data": {
      "text/plain": [
       "(1705,)"
      ]
     },
     "execution_count": 198,
     "metadata": {},
     "output_type": "execute_result"
    }
   ],
   "source": [
    "actual_pred.shape"
   ]
  },
  {
   "cell_type": "code",
   "execution_count": 199,
   "metadata": {},
   "outputs": [],
   "source": [
    "submission=pd.DataFrame(list(zip(test_clean['Medicine_ID'],list(actual_pred))),\n",
    "                       columns=['Medicine_ID','Counterfeit_Sales'])"
   ]
  },
  {
   "cell_type": "code",
   "execution_count": 200,
   "metadata": {},
   "outputs": [
    {
     "data": {
      "text/html": [
       "<div>\n",
       "<style scoped>\n",
       "    .dataframe tbody tr th:only-of-type {\n",
       "        vertical-align: middle;\n",
       "    }\n",
       "\n",
       "    .dataframe tbody tr th {\n",
       "        vertical-align: top;\n",
       "    }\n",
       "\n",
       "    .dataframe thead th {\n",
       "        text-align: right;\n",
       "    }\n",
       "</style>\n",
       "<table border=\"1\" class=\"dataframe\">\n",
       "  <thead>\n",
       "    <tr style=\"text-align: right;\">\n",
       "      <th></th>\n",
       "      <th>Medicine_ID</th>\n",
       "      <th>Counterfeit_Sales</th>\n",
       "    </tr>\n",
       "  </thead>\n",
       "  <tbody>\n",
       "    <tr>\n",
       "      <th>0</th>\n",
       "      <td>HLZ81</td>\n",
       "      <td>1960.734353</td>\n",
       "    </tr>\n",
       "    <tr>\n",
       "      <th>1</th>\n",
       "      <td>ECE94</td>\n",
       "      <td>4030.213146</td>\n",
       "    </tr>\n",
       "    <tr>\n",
       "      <th>2</th>\n",
       "      <td>SAD14</td>\n",
       "      <td>1575.408237</td>\n",
       "    </tr>\n",
       "    <tr>\n",
       "      <th>3</th>\n",
       "      <td>EQV63</td>\n",
       "      <td>273.109048</td>\n",
       "    </tr>\n",
       "    <tr>\n",
       "      <th>4</th>\n",
       "      <td>AIR10</td>\n",
       "      <td>358.111404</td>\n",
       "    </tr>\n",
       "  </tbody>\n",
       "</table>\n",
       "</div>"
      ],
      "text/plain": [
       "  Medicine_ID  Counterfeit_Sales\n",
       "0       HLZ81        1960.734353\n",
       "1       ECE94        4030.213146\n",
       "2       SAD14        1575.408237\n",
       "3       EQV63         273.109048\n",
       "4       AIR10         358.111404"
      ]
     },
     "execution_count": 200,
     "metadata": {},
     "output_type": "execute_result"
    }
   ],
   "source": [
    "submission.head()"
   ]
  },
  {
   "cell_type": "code",
   "execution_count": 201,
   "metadata": {},
   "outputs": [
    {
     "name": "stdout",
     "output_type": "stream",
     "text": [
      "<class 'pandas.core.frame.DataFrame'>\n",
      "RangeIndex: 1705 entries, 0 to 1704\n",
      "Data columns (total 2 columns):\n",
      " #   Column             Non-Null Count  Dtype  \n",
      "---  ------             --------------  -----  \n",
      " 0   Medicine_ID        1705 non-null   object \n",
      " 1   Counterfeit_Sales  1705 non-null   float64\n",
      "dtypes: float64(1), object(1)\n",
      "memory usage: 26.8+ KB\n"
     ]
    }
   ],
   "source": [
    "submission.info()"
   ]
  },
  {
   "cell_type": "code",
   "execution_count": 202,
   "metadata": {},
   "outputs": [],
   "source": [
    "submission.to_csv('sample_submission.csv',index=False)"
   ]
  },
  {
   "cell_type": "code",
   "execution_count": null,
   "metadata": {},
   "outputs": [],
   "source": []
  },
  {
   "cell_type": "code",
   "execution_count": null,
   "metadata": {},
   "outputs": [],
   "source": []
  }
 ],
 "metadata": {
  "kernelspec": {
   "display_name": "Python 3",
   "language": "python",
   "name": "python3"
  },
  "language_info": {
   "codemirror_mode": {
    "name": "ipython",
    "version": 3
   },
   "file_extension": ".py",
   "mimetype": "text/x-python",
   "name": "python",
   "nbconvert_exporter": "python",
   "pygments_lexer": "ipython3",
   "version": "3.8.3-final"
  }
 },
 "nbformat": 4,
 "nbformat_minor": 2
}